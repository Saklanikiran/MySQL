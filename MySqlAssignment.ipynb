{
 "cells": [
  {
   "cell_type": "markdown",
   "id": "a5df2a98-c807-40b2-967b-33c1caa2a689",
   "metadata": {},
   "source": [
    "# Ans : 1"
   ]
  },
  {
   "cell_type": "code",
   "execution_count": 1,
   "id": "6df6afac-6804-4823-9666-1296f0d32b21",
   "metadata": {},
   "outputs": [
    {
     "data": {
      "text/plain": [
       "'\\nDatabase : A database is a structured collection of data that is organized in a way that allows for efficient storage, \\n           retrieval, and management of information.\\n\\n\\nDifference between SQL and NoSQL database :\\n \\n SQL database : \\n     > SQL databases are relational databases that use a structured schema and organize data into tables with rows and columns. \\n     > SQL databases follow the ACID (Atomicity, Consistency, Isolation, Durability) properties, ensuring that \\n       sactions are processed reliably.\\n    > SQL databases require a predefined schema, meaning the structure of the data must be defined before inserting data. \\n    \\n  NoSQL database:\\n    > NoSQL databases are non-relational and do not require a fixed schema.\\n    > NoSQL database often follow the CAP (Consistency, Availability, Partition Tolerance) theorem, where systems \\n      n provide at most two out of three.\\n    > NoSQL databases allow for dynamic and flexible schemas.\\n'"
      ]
     },
     "execution_count": 1,
     "metadata": {},
     "output_type": "execute_result"
    }
   ],
   "source": [
    "'''\n",
    "Database : A database is a structured collection of data that is organized in a way that allows for efficient storage, \n",
    "           retrieval, and management of information.\n",
    "\n",
    "\n",
    "Difference between SQL and NoSQL database :\n",
    " \n",
    " SQL database : \n",
    "     > SQL databases are relational databases that use a structured schema and organize data into tables with rows and columns. \n",
    "     > SQL databases follow the ACID (Atomicity, Consistency, Isolation, Durability) properties, ensuring that \n",
    "       sactions are processed reliably.\n",
    "    > SQL databases require a predefined schema, meaning the structure of the data must be defined before inserting data. \n",
    "    \n",
    "  NoSQL database:\n",
    "    > NoSQL databases are non-relational and do not require a fixed schema.\n",
    "    > NoSQL database often follow the CAP (Consistency, Availability, Partition Tolerance) theorem, where systems \n",
    "      n provide at most two out of three.\n",
    "    > NoSQL databases allow for dynamic and flexible schemas.\n",
    "'''\n"
   ]
  },
  {
   "cell_type": "markdown",
   "id": "55976d69-5c27-4ba5-beb0-a4984be08e29",
   "metadata": {},
   "source": [
    "# Ans : 2"
   ]
  },
  {
   "cell_type": "code",
   "execution_count": 2,
   "id": "4c3104bb-cb9c-4aad-b53d-32f399daf9a7",
   "metadata": {},
   "outputs": [
    {
     "data": {
      "text/plain": [
       "'\\nDDL : Data Definition Language is a subset of SQL (Structured Query Language) used to define and manage the structure\\n     of a relational database. DDL statements are responsible for defining and managing the database schema,\\n     including creating, altering, and deleting database objects such as tables, indexes, and views.\\n     \\nUses of : \\n\\n    > CREATE : The CREATE statement is used to create a new database object, such as a table, index, or view.\\n    > DROP : The DROP statement is used to delete an existing database object, such as a table or index. \\n             This action irreversibly removes the object and its data from the database.\\n    > ALTER : The ALTER statement is used to modify the structure of an existing database object,\\n              such as adding or removing columns from a table.\\n    > TRUNCATE : The TRUNCATE statement is used to quickly delete all rows from a table but retains the table \\n                 structure for future use. \\n'"
      ]
     },
     "execution_count": 2,
     "metadata": {},
     "output_type": "execute_result"
    }
   ],
   "source": [
    "'''\n",
    "DDL : Data Definition Language is a subset of SQL (Structured Query Language) used to define and manage the structure\n",
    "     of a relational database. DDL statements are responsible for defining and managing the database schema,\n",
    "     including creating, altering, and deleting database objects such as tables, indexes, and views.\n",
    "     \n",
    "Uses of : \n",
    "\n",
    "    > CREATE : The CREATE statement is used to create a new database object, such as a table, index, or view.\n",
    "    > DROP : The DROP statement is used to delete an existing database object, such as a table or index. \n",
    "             This action irreversibly removes the object and its data from the database.\n",
    "    > ALTER : The ALTER statement is used to modify the structure of an existing database object,\n",
    "              such as adding or removing columns from a table.\n",
    "    > TRUNCATE : The TRUNCATE statement is used to quickly delete all rows from a table but retains the table \n",
    "                 structure for future use. \n",
    "'''"
   ]
  },
  {
   "cell_type": "markdown",
   "id": "95332507-be40-40cb-b653-a06b4147b51d",
   "metadata": {},
   "source": [
    "# Ans : 3"
   ]
  },
  {
   "cell_type": "code",
   "execution_count": 1,
   "id": "dbdd5e4a-ef92-4b1c-aee8-a6d60def29d9",
   "metadata": {},
   "outputs": [
    {
     "data": {
      "text/plain": [
       "\"\\nDML(data manipulation language) :  Data Manipulation Language, is a subset of SQL (Structured Query Language) that deals \\n                                   with the manipulation of data stored in a database. \\n                                   DML statements are used to retrieve, insert, update, and delete data within database tables.\\n\\nThe three main DML statements are INSERT, UPDATE, and DELETE.\\n\\n1. INSERT : The INSERT statement is used to add new rows of data into a table.\\n   Example : Inserting a new employee record into the employees table.\\n            INSERT INTO employees (employee_id, employee_name, salary, department_id)\\n            VALUES (1, 'John Doe', 50000.00, 101);\\n        \\n2. UPDATE : The UPDATE statement is used to modify existing data in a table.\\n   Example: Updating the salary of employee 'John Doe' to 55000.00.\\n            UPDATE employees\\n            SET salary = 55000.00\\n            WHERE employee_name = 'John Doe';\\n            \\n3. DELETE : The DELETE statement is used to remove rows from a table based on a specified condition.\\n   Example: Deleting an employee record with the ID of 1.\\n           DELETE FROM employees\\n           WHERE employee_id = 1;\\n           \\n\""
      ]
     },
     "execution_count": 1,
     "metadata": {},
     "output_type": "execute_result"
    }
   ],
   "source": [
    "'''\n",
    "DML(data manipulation language) :  Data Manipulation Language, is a subset of SQL (Structured Query Language) that deals \n",
    "                                   with the manipulation of data stored in a database. \n",
    "                                   DML statements are used to retrieve, insert, update, and delete data within database tables.\n",
    "\n",
    "The three main DML statements are INSERT, UPDATE, and DELETE.\n",
    "\n",
    "1. INSERT : The INSERT statement is used to add new rows of data into a table.\n",
    "   Example : Inserting a new employee record into the employees table.\n",
    "            INSERT INTO employees (employee_id, employee_name, salary, department_id)\n",
    "            VALUES (1, 'John Doe', 50000.00, 101);\n",
    "        \n",
    "2. UPDATE : The UPDATE statement is used to modify existing data in a table.\n",
    "   Example: Updating the salary of employee 'John Doe' to 55000.00.\n",
    "            UPDATE employees\n",
    "            SET salary = 55000.00\n",
    "            WHERE employee_name = 'John Doe';\n",
    "            \n",
    "3. DELETE : The DELETE statement is used to remove rows from a table based on a specified condition.\n",
    "   Example: Deleting an employee record with the ID of 1.\n",
    "           DELETE FROM employees\n",
    "           WHERE employee_id = 1;\n",
    "           \n",
    "'''\n",
    "\n",
    "\n"
   ]
  },
  {
   "cell_type": "markdown",
   "id": "25d915eb-d1a6-4e6f-b1de-cd0302004915",
   "metadata": {},
   "source": [
    "# Ans : 4"
   ]
  },
  {
   "cell_type": "code",
   "execution_count": null,
   "id": "d121cbb9-12e9-44d8-80eb-70a191990b08",
   "metadata": {},
   "outputs": [],
   "source": [
    "'''\n",
    "DQL(data query language ) : DQL stands for Data Query Language, and it is a subset of SQL (Structured Query Language)\n",
    "                            used for querying and retrieving data from a relational database. \n",
    "                            \n",
    "SELECT : The SELECT statement is used to query the database and retrieve specific data from one or more tables. \n",
    "         It allows you to specify the columns you want to retrieve, the table from which to retrieve the data,\n",
    "         and conditions to filter the results.\n",
    "         \n",
    "        Example : Suppose we have a table named employees with columns such as employee_id, employee_name, salary, and department_id.\n",
    "                  To retrieve the names and salaries of all employees in the IT department with a salary greater than $50,000, we\n",
    "                  can use the following SELECT statement:\n",
    "                  SELECT employee_name, salary\n",
    "                  FROM employees\n",
    "                  WHERE department_id = 101 AND salary > 50000;\n",
    "'''\n"
   ]
  },
  {
   "cell_type": "markdown",
   "id": "fb7d51ae-a5fe-4519-9677-3f5b698c16f5",
   "metadata": {},
   "source": [
    "# Ans : 5"
   ]
  },
  {
   "cell_type": "code",
   "execution_count": 1,
   "id": "555b12ee-7a65-4e9e-9415-f73dd9abf2c3",
   "metadata": {},
   "outputs": [
    {
     "data": {
      "text/plain": [
       "'\\nPrimary Key : A primary key is a unique identifier for a record in a relational database table. It uniquely identifies each\\n             record in the table and ensures that there are no duplicate or null values in the key column. The primary key is\\n             used to establish a link between different tables and to enforce the entity integrity of the database.\\n             Example : Consider a table named employees with columns employee_id, employee_name, and salary. The employee_id \\n                      column can be designated as the primary key:\\n                      CREATE TABLE employees (\\n                      employee_id INT PRIMARY KEY,\\n                      employee_name VARCHAR(50),\\n                      salary DECIMAL(10, 2)\\n                      );\\n                      \\n                      \\nForeign Key : A foreign key is a column or a set of columns in a database table that refers to the primary key of another \\n              table. It establishes a link or relationship between the two tables by enforcing referential integrity. The\\n              purpose of a foreign key is to ensure that the values in the foreign key column(s) correspond to the values in\\n              the primary key of the referenced table.\\n              Example : Consider two tables, employees and departments. The employees table has a foreign key department_id\\n                        that references the primary key department_id in the departments table:\\n                        CREATE TABLE departments (\\n                        department_id INT PRIMARY KEY,\\n                        department_name VARCHAR(50)\\n                    );\\n\\n                    CREATE TABLE employees (\\n                        employee_id INT PRIMARY KEY,\\n                        employee_name VARCHAR(50),\\n                        salary DECIMAL(10, 2),\\n                        department_id INT,\\n                        FOREIGN KEY (department_id) REFERENCES departments(department_id)\\n                    );\\n\\n'"
      ]
     },
     "execution_count": 1,
     "metadata": {},
     "output_type": "execute_result"
    }
   ],
   "source": [
    "'''\n",
    "Primary Key : A primary key is a unique identifier for a record in a relational database table. It uniquely identifies each\n",
    "             record in the table and ensures that there are no duplicate or null values in the key column. The primary key is\n",
    "             used to establish a link between different tables and to enforce the entity integrity of the database.\n",
    "             Example : Consider a table named employees with columns employee_id, employee_name, and salary. The employee_id \n",
    "                      column can be designated as the primary key:\n",
    "                      CREATE TABLE employees (\n",
    "                      employee_id INT PRIMARY KEY,\n",
    "                      employee_name VARCHAR(50),\n",
    "                      salary DECIMAL(10, 2)\n",
    "                      );\n",
    "                      \n",
    "                      \n",
    "Foreign Key : A foreign key is a column or a set of columns in a database table that refers to the primary key of another \n",
    "              table. It establishes a link or relationship between the two tables by enforcing referential integrity. The\n",
    "              purpose of a foreign key is to ensure that the values in the foreign key column(s) correspond to the values in\n",
    "              the primary key of the referenced table.\n",
    "              Example : Consider two tables, employees and departments. The employees table has a foreign key department_id\n",
    "                        that references the primary key department_id in the departments table:\n",
    "                        CREATE TABLE departments (\n",
    "                        department_id INT PRIMARY KEY,\n",
    "                        department_name VARCHAR(50)\n",
    "                    );\n",
    "\n",
    "                    CREATE TABLE employees (\n",
    "                        employee_id INT PRIMARY KEY,\n",
    "                        employee_name VARCHAR(50),\n",
    "                        salary DECIMAL(10, 2),\n",
    "                        department_id INT,\n",
    "                        FOREIGN KEY (department_id) REFERENCES departments(department_id)\n",
    "                    );\n",
    "\n",
    "'''\n"
   ]
  },
  {
   "cell_type": "markdown",
   "id": "602ebafe-0417-41a3-8ac9-fbd72d93d80a",
   "metadata": {},
   "source": [
    "# Ans : 7"
   ]
  },
  {
   "cell_type": "code",
   "execution_count": null,
   "id": "2b5ece87-2d12-44c3-bc37-9317f742a868",
   "metadata": {},
   "outputs": [],
   "source": [
    "'''\n",
    "\n",
    "Syntax of SQL query :\n",
    "SELECT [columns]\n",
    "FROM [table]\n",
    "WHERE [conditions]\n",
    "GROUP BY [columns]\n",
    "HAVING [conditions]\n",
    "ORDER BY [columns]\n",
    "\n",
    "FROM Clause : The FROM clause is the first to be executed. It specifies the table or tables from which the data will be retrieved.\n",
    "\n",
    "WHERE Clause : The WHERE clause filters the rows based on specified conditions. It is applied after the FROM clause and before the GROUP BY clause.\n",
    "\n",
    "GROUP BY Clause : The GROUP BY clause is used to group rows that have the same values in specified columns. It is applied after the WHERE clause.\n",
    "\n",
    "HAVING Clause : The HAVING clause filters the groups produced by the GROUP BY clause based on specified conditions. It is applied after the GROUP BY clause.\n",
    "\n",
    "SELECT Clause : The SELECT clause is used to specify the columns that should be included in the result set. It is applied after the previous clauses have been processed.\n",
    "\n",
    "ORDER BY Clause:\n",
    "\n",
    "The ORDER BY clause is the last to be executed. It is used to sort the result set based on specified columns and their sort order."
   ]
  },
  {
   "cell_type": "code",
   "execution_count": null,
   "id": "d638c471-46cf-427e-83fa-83dc4b90cc1a",
   "metadata": {},
   "outputs": [],
   "source": []
  }
 ],
 "metadata": {
  "kernelspec": {
   "display_name": "Python 3 (ipykernel)",
   "language": "python",
   "name": "python3"
  },
  "language_info": {
   "codemirror_mode": {
    "name": "ipython",
    "version": 3
   },
   "file_extension": ".py",
   "mimetype": "text/x-python",
   "name": "python",
   "nbconvert_exporter": "python",
   "pygments_lexer": "ipython3",
   "version": "3.10.8"
  }
 },
 "nbformat": 4,
 "nbformat_minor": 5
}
